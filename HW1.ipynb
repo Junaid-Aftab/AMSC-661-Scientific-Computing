{
 "cells": [
  {
   "cell_type": "code",
   "execution_count": 9,
   "id": "2910a37e-1cbb-4874-ae5d-192e3d682815",
   "metadata": {},
   "outputs": [],
   "source": [
    "import numpy as np\n",
    "import matplotlib.pyplot as plt\n",
    "import scipy.integrate as sci"
   ]
  },
  {
   "cell_type": "code",
   "execution_count": 18,
   "id": "d1d468f2-fde7-4561-924f-787adae9020d",
   "metadata": {},
   "outputs": [],
   "source": [
    "def func(t,y):\n",
    "    \n",
    "    # The right-hand side for the 2D gravity ODE\n",
    "    dy = np.zeros((4,))\n",
    "    dy[0] = y[2]\n",
    "    dy[1] = y[3]\n",
    "    aux = y[0]*y[0]+y[1]*y[1]\n",
    "    dy[2] = -y[0]/aux\n",
    "    dy[3] = -y[1]/aux\n",
    "    return dy\n",
    "\n",
    "# initial condition for the unit circle solution\n",
    "y0 = np.array([1,0,0,1])\n",
    "y1 = np.array([1-0.01,0.01,0.01,1-0.01])\n",
    "\n",
    "# for the exact solution\n",
    "tt = np.linspace(0,2*np.pi,200)\n",
    "\n",
    "# parameters\n",
    "Nloops = 2\n",
    "tmax = Nloops*2*np.pi\n",
    "steps_per_loop = 80\n",
    "Nt = Nloops*steps_per_loop\n",
    "dt = 2*np.pi/steps_per_loop"
   ]
  },
  {
   "cell_type": "code",
   "execution_count": 20,
   "id": "54e5e313-50aa-44dc-bf7b-ff79d779a44b",
   "metadata": {},
   "outputs": [],
   "source": [
    "sol = np.zeros((Nt+1,4))\n",
    "sol[0,:] = y0\n",
    "sol[1,:] = y1\n",
    "t = dt\n",
    "\n",
    "for j in range(1,Nt):\n",
    "    sol[j+1,:] = -4*sol[j,:] + 5*sol[j-1,:] + dt*(4*func(t,sol[j,:]) + 5*func(t-dt,sol[j-1,:]))\n",
    "    t = t + dt"
   ]
  },
  {
   "cell_type": "code",
   "execution_count": 12,
   "id": "b0d9e327",
   "metadata": {},
   "outputs": [
    {
     "name": "stdout",
     "output_type": "stream",
     "text": [
      "When N = 20 the solution at 4pi is [ 4.72648211e+27  5.07666982e+26 -7.72669081e+26  3.15272805e+25] with norm 4.8161572176778703e+27\n"
     ]
    }
   ],
   "source": [
    "print('When N = 20 the solution at 4pi is', sol[Nt,:], 'with norm', np.linalg.norm(sol[Nt,:]) )"
   ]
  },
  {
   "cell_type": "code",
   "execution_count": 13,
   "id": "0b5bbf53",
   "metadata": {},
   "outputs": [
    {
     "data": {
      "image/png": "[encoded data removed]",
      "text/plain": [
       "<Figure size 576x576 with 1 Axes>"
      ]
     },
     "metadata": {
      "needs_background": "light"
     },
     "output_type": "display_data"
    }
   ],
   "source": [
    "# plot the exact solution and the training points\n",
    "fig, ax = plt.subplots(figsize=(8,8))\n",
    "#plt.plot(np.cos(tt),np.sin(tt),linewidth=2,label='Exact solution')\n",
    "plt.plot(sol[:,0],sol[:,1],linewidth=2,label='Numerical Solution')  \n",
    "plt.title(\"2D gravity ODE\")\n",
    "plt.legend()\n",
    "plt.xlabel(\"x\")\n",
    "plt.ylabel(\"y\")\n",
    "ax.set_aspect(1)"
   ]
  },
  {
   "cell_type": "code",
   "execution_count": 16,
   "id": "4d5da98f",
   "metadata": {},
   "outputs": [
    {
     "name": "stdout",
     "output_type": "stream",
     "text": [
      "When N = 40 the solution at 4pi is [ 2.19572803e+55  1.51473514e+54 -3.52342182e+54  2.57882200e+53] with norm 2.2291199765987003e+55\n"
     ]
    }
   ],
   "source": [
    "print('When N = 40 the solution at 4pi is', sol[Nt,:], 'with norm', np.linalg.norm(sol[Nt,:]) )"
   ]
  },
  {
   "cell_type": "code",
   "execution_count": 17,
   "id": "df24df15",
   "metadata": {},
   "outputs": [
    {
     "data": {
      "image/png": "[encoded data removed]",
      "text/plain": [
       "<Figure size 576x576 with 1 Axes>"
      ]
     },
     "metadata": {
      "needs_background": "light"
     },
     "output_type": "display_data"
    }
   ],
   "source": [
    "# plot the exact solution and the training points\n",
    "fig, ax = plt.subplots(figsize=(8,8))\n",
    "#plt.plot(np.cos(tt),np.sin(tt),linewidth=2,label='Exact solution')\n",
    "plt.plot(sol[:,0],sol[:,1],linewidth=2,label='Numerical Solution')  \n",
    "plt.title(\"2D gravity ODE\")\n",
    "plt.legend()\n",
    "plt.xlabel(\"x\")\n",
    "plt.ylabel(\"y\")\n",
    "ax.set_aspect(1)"
   ]
  },
  {
   "cell_type": "code",
   "execution_count": 21,
   "id": "bcaa827b",
   "metadata": {},
   "outputs": [
    {
     "name": "stdout",
     "output_type": "stream",
     "text": [
      "When N = 80 the solution at 4pi is [ 9.36164918e+110  1.92200442e+109 -1.48203396e+110  1.66074290e+109] with norm 9.481636025116004e+110\n"
     ]
    }
   ],
   "source": [
    "print('When N = 80 the solution at 4pi is', sol[Nt,:], 'with norm', np.linalg.norm(sol[Nt,:]) )"
   ]
  },
  {
   "cell_type": "code",
   "execution_count": 22,
   "id": "b2058006",
   "metadata": {},
   "outputs": [
    {
     "data": {
      "image/png": "[encoded data removed]",
      "text/plain": [
       "<Figure size 576x576 with 1 Axes>"
      ]
     },
     "metadata": {
      "needs_background": "light"
     },
     "output_type": "display_data"
    }
   ],
   "source": [
    "# plot the exact solution and the training points\n",
    "fig, ax = plt.subplots(figsize=(8,8))\n",
    "#plt.plot(np.cos(tt),np.sin(tt),linewidth=2,label='Exact solution')\n",
    "plt.plot(sol[:,0],sol[:,1],linewidth=2,label='Numerical Solution')  \n",
    "plt.title(\"2D gravity ODE\")\n",
    "plt.legend()\n",
    "plt.xlabel(\"x\")\n",
    "plt.ylabel(\"y\")\n",
    "ax.set_aspect(1)"
   ]
  },
  {
   "cell_type": "code",
   "execution_count": null,
   "id": "11e9a600",
   "metadata": {},
   "outputs": [],
   "source": []
  }
 ],
 "metadata": {
  "kernelspec": {
   "display_name": "Python 3",
   "language": "python",
   "name": "python3"
  },
  "language_info": {
   "codemirror_mode": {
    "name": "ipython",
    "version": 3
   },
   "file_extension": ".py",
   "mimetype": "text/x-python",
   "name": "python",
   "nbconvert_exporter": "python",
   "pygments_lexer": "ipython3",
   "version": "3.8.8"
  }
 },
 "nbformat": 4,
 "nbformat_minor": 5
}
